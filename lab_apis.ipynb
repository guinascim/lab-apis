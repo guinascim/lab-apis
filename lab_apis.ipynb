{
  "cells": [
    {
      "cell_type": "markdown",
      "id": "27422808-8a16-4be1-897f-57b379af8991",
      "metadata": {
        "id": "27422808-8a16-4be1-897f-57b379af8991"
      },
      "source": [
        "# Lab | APIs"
      ]
    },
    {
      "cell_type": "markdown",
      "id": "50f30950-3e31-499a-92ea-1535422c570b",
      "metadata": {
        "id": "50f30950-3e31-499a-92ea-1535422c570b"
      },
      "source": [
        "In order to use the `Spotify` API (`SpotiPy`), create an account in `Spotify` and follow [these](https://developer.spotify.com/documentation/general/guides/app-settings/) steps."
      ]
    },
    {
      "cell_type": "markdown",
      "id": "a0479b95-6ca5-415e-b894-1f5cb17b055b",
      "metadata": {
        "id": "a0479b95-6ca5-415e-b894-1f5cb17b055b"
      },
      "source": [
        "## Authentication and initializing the API"
      ]
    },
    {
      "cell_type": "markdown",
      "id": "47d71611-c617-4972-a0c3-7090c24b399c",
      "metadata": {
        "id": "47d71611-c617-4972-a0c3-7090c24b399c"
      },
      "source": [
        "Save your client ID and your client secret in your preferred way, and read it or load it into the following variables:"
      ]
    },
    {
      "cell_type": "code",
      "execution_count": null,
      "id": "ea44c82a-5c07-4dbc-beb2-bba2601bb75e",
      "metadata": {
        "id": "ea44c82a-5c07-4dbc-beb2-bba2601bb75e"
      },
      "outputs": [],
      "source": [
        "CLIENT_ID = \"<introduce your client id>\"\n",
        "CLIENT_SECRET = \"<introduce your client secret>\""
      ]
    },
    {
      "cell_type": "code",
      "execution_count": 3,
      "id": "319cfd4e-f6fb-4419-80e0-e3983cd25e43",
      "metadata": {
        "id": "319cfd4e-f6fb-4419-80e0-e3983cd25e43"
      },
      "outputs": [],
      "source": [
        "CLIENT_ID = \"4109b2d9f5014671863bb2df1d1fbdd3\"\n",
        "CLIENT_SECRET = \"5cb719fae80c4191a9c0b288f51bfe50\""
      ]
    },
    {
      "cell_type": "code",
      "execution_count": null,
      "id": "04e12954-fd70-4311-88a5-fb7e2c29799c",
      "metadata": {
        "id": "04e12954-fd70-4311-88a5-fb7e2c29799c"
      },
      "outputs": [],
      "source": [
        "# If you havent done so, install the spotipy wrapper\n",
        "!pip install spotipy"
      ]
    },
    {
      "cell_type": "markdown",
      "id": "dc0e86da-8846-4207-84c3-cd20b9e01d0e",
      "metadata": {
        "id": "dc0e86da-8846-4207-84c3-cd20b9e01d0e"
      },
      "source": [
        "Once you have done it, we will start initializing the API."
      ]
    },
    {
      "cell_type": "code",
      "execution_count": 4,
      "id": "03034bc6-9858-412a-83b7-18abdc345d7e",
      "metadata": {
        "id": "03034bc6-9858-412a-83b7-18abdc345d7e"
      },
      "outputs": [],
      "source": [
        "CLIENT_ID = \"4109b2d9f5014671863bb2df1d1fbdd3\"\n",
        "CLIENT_SECRET = \"5cb719fae80c4191a9c0b288f51bfe50\"\n",
        "\n",
        "import spotipy\n",
        "from spotipy.oauth2 import SpotifyClientCredentials\n",
        "\n",
        "#Initialize SpotiPy with user credentials\n",
        "sp = spotipy.Spotify(auth_manager=SpotifyClientCredentials(client_id=CLIENT_ID,\n",
        "                                                           client_secret=CLIENT_SECRET))\n"
      ]
    },
    {
      "cell_type": "markdown",
      "id": "8fed9628-08d7-4290-a4be-5527696b01c5",
      "metadata": {
        "id": "8fed9628-08d7-4290-a4be-5527696b01c5"
      },
      "source": [
        "## Using the search method"
      ]
    },
    {
      "cell_type": "markdown",
      "id": "6575a3c6-f25a-4905-b1f3-c0efd50dcc1e",
      "metadata": {
        "id": "6575a3c6-f25a-4905-b1f3-c0efd50dcc1e"
      },
      "source": [
        "Now, let's use the search method by introducing a \"query\". For example, let's try searching for \"Lady Gaga\":"
      ]
    },
    {
      "cell_type": "code",
      "execution_count": 154,
      "id": "7772a1e0-9692-4d04-a590-76111a272d8d",
      "metadata": {
        "tags": [],
        "id": "7772a1e0-9692-4d04-a590-76111a272d8d"
      },
      "outputs": [],
      "source": [
        "#results = sp.search(q='Lady Gaga', limit=50)\n",
        "#results"
      ]
    },
    {
      "cell_type": "code",
      "execution_count": 6,
      "id": "edc14c95-474b-4e2a-aea3-bdfd0a205546",
      "metadata": {
        "colab": {
          "base_uri": "https://localhost:8080/"
        },
        "id": "edc14c95-474b-4e2a-aea3-bdfd0a205546",
        "outputId": "ff49ee2d-db8d-4864-9b8d-6a835e832221"
      },
      "outputs": [
        {
          "output_type": "execute_result",
          "data": {
            "text/plain": [
              "dict_keys(['tracks'])"
            ]
          },
          "metadata": {},
          "execution_count": 6
        }
      ],
      "source": [
        "results.keys() # We can see that we only have tracks"
      ]
    },
    {
      "cell_type": "code",
      "execution_count": 7,
      "id": "ad8ef934-1dbb-4008-ac8e-f5c29823fe6a",
      "metadata": {
        "colab": {
          "base_uri": "https://localhost:8080/"
        },
        "id": "ad8ef934-1dbb-4008-ac8e-f5c29823fe6a",
        "outputId": "ccc07d7e-9cdf-4606-ff7f-7dacd514a881"
      },
      "outputs": [
        {
          "output_type": "execute_result",
          "data": {
            "text/plain": [
              "dict_keys(['href', 'items', 'limit', 'next', 'offset', 'previous', 'total'])"
            ]
          },
          "metadata": {},
          "execution_count": 7
        }
      ],
      "source": [
        "results[\"tracks\"].keys() # Let's check the values"
      ]
    },
    {
      "cell_type": "code",
      "execution_count": 8,
      "id": "004b7814-4dd5-408e-b7ba-1da87f9250cb",
      "metadata": {
        "colab": {
          "base_uri": "https://localhost:8080/",
          "height": 35
        },
        "id": "004b7814-4dd5-408e-b7ba-1da87f9250cb",
        "outputId": "fce825ce-aa52-461d-ac58-57108f01797a"
      },
      "outputs": [
        {
          "output_type": "execute_result",
          "data": {
            "text/plain": [
              "'https://api.spotify.com/v1/search?query=Lady+Gaga&type=track&offset=0&limit=50'"
            ],
            "application/vnd.google.colaboratory.intrinsic+json": {
              "type": "string"
            }
          },
          "metadata": {},
          "execution_count": 8
        }
      ],
      "source": [
        "results[\"tracks\"][\"href\"] # Query we have searched"
      ]
    },
    {
      "cell_type": "code",
      "execution_count": null,
      "id": "529fff56-47d3-4d78-8ff5-9530fe290d1d",
      "metadata": {
        "id": "529fff56-47d3-4d78-8ff5-9530fe290d1d"
      },
      "outputs": [],
      "source": [
        "results[\"tracks\"][\"limit\"]#Limit we have chosen"
      ]
    },
    {
      "cell_type": "code",
      "execution_count": null,
      "id": "92c64c57-3bd2-4d42-bbd1-84a040f1e02a",
      "metadata": {
        "id": "92c64c57-3bd2-4d42-bbd1-84a040f1e02a"
      },
      "outputs": [],
      "source": [
        "results[\"tracks\"][\"next\"] #link to the next page (next 50 tracks)"
      ]
    },
    {
      "cell_type": "code",
      "execution_count": null,
      "id": "f5ccdf79-5d9e-40de-adb9-2cc1e5b7c74a",
      "metadata": {
        "tags": [],
        "id": "f5ccdf79-5d9e-40de-adb9-2cc1e5b7c74a"
      },
      "outputs": [],
      "source": [
        "results[\"tracks\"][\"offset\"] # Actual offset (starting point)"
      ]
    },
    {
      "cell_type": "code",
      "execution_count": null,
      "id": "356730c1-60a2-4ea8-bd2c-e0522bab8a4d",
      "metadata": {
        "id": "356730c1-60a2-4ea8-bd2c-e0522bab8a4d"
      },
      "outputs": [],
      "source": [
        "results[\"tracks\"][\"previous\"] #Previous search"
      ]
    },
    {
      "cell_type": "code",
      "execution_count": null,
      "id": "7c44c8fd-63ea-45ba-94bd-5c5e8e1458b3",
      "metadata": {
        "id": "7c44c8fd-63ea-45ba-94bd-5c5e8e1458b3"
      },
      "outputs": [],
      "source": [
        "results[\"tracks\"][\"total\"] # Number of matches"
      ]
    },
    {
      "cell_type": "markdown",
      "id": "7a127c64-3274-4ecc-aa0f-83ae34af4655",
      "metadata": {
        "id": "7a127c64-3274-4ecc-aa0f-83ae34af4655"
      },
      "source": [
        "## Exploring the tracks"
      ]
    },
    {
      "cell_type": "code",
      "execution_count": null,
      "id": "6c3541a2-0fd2-41e0-9b27-60a7dc36c4cb",
      "metadata": {
        "scrolled": true,
        "tags": [],
        "id": "6c3541a2-0fd2-41e0-9b27-60a7dc36c4cb"
      },
      "outputs": [],
      "source": [
        "results[\"tracks\"][\"items\"][0] # Explore the first song"
      ]
    },
    {
      "cell_type": "code",
      "execution_count": null,
      "id": "f2c35eb2-3ea6-4329-9f29-7c062f466638",
      "metadata": {
        "id": "f2c35eb2-3ea6-4329-9f29-7c062f466638"
      },
      "outputs": [],
      "source": [
        "results[\"tracks\"][\"items\"][0].keys() # We will focus on album, artists, id, name, popularity, type and uri"
      ]
    },
    {
      "cell_type": "code",
      "execution_count": null,
      "id": "889ca3c3-b0c8-4037-96fb-6add847f537f",
      "metadata": {
        "id": "889ca3c3-b0c8-4037-96fb-6add847f537f"
      },
      "outputs": [],
      "source": [
        "# Track artists\n",
        "results[\"tracks\"][\"items\"][0][\"artists\"]"
      ]
    },
    {
      "cell_type": "code",
      "execution_count": null,
      "id": "a9c6a0b2-cea7-48ff-8c51-179d15388aa2",
      "metadata": {
        "id": "a9c6a0b2-cea7-48ff-8c51-179d15388aa2"
      },
      "outputs": [],
      "source": [
        "# Track artists names\n",
        "for artist in results[\"tracks\"][\"items\"][0][\"artists\"]:\n",
        "    print(artist[\"name\"])"
      ]
    },
    {
      "cell_type": "code",
      "execution_count": null,
      "id": "6a826e9c-d2e7-4537-a82c-3dc3a2b80b9f",
      "metadata": {
        "id": "6a826e9c-d2e7-4537-a82c-3dc3a2b80b9f"
      },
      "outputs": [],
      "source": [
        "# Track ID\n",
        "results[\"tracks\"][\"items\"][0][\"id\"]"
      ]
    },
    {
      "cell_type": "code",
      "execution_count": null,
      "id": "a5bd871b-6087-4680-819c-1a1d8ba879bc",
      "metadata": {
        "id": "a5bd871b-6087-4680-819c-1a1d8ba879bc"
      },
      "outputs": [],
      "source": [
        "# Track name\n",
        "results[\"tracks\"][\"items\"][0][\"name\"]"
      ]
    },
    {
      "cell_type": "code",
      "execution_count": null,
      "id": "812661f1-29db-452f-a719-cdfbe95ba9f6",
      "metadata": {
        "id": "812661f1-29db-452f-a719-cdfbe95ba9f6"
      },
      "outputs": [],
      "source": [
        "# Popularity index\n",
        "results[\"tracks\"][\"items\"][0][\"popularity\"]"
      ]
    },
    {
      "cell_type": "markdown",
      "id": "0e81c762-e6c5-424e-a4eb-12ab45dffb9f",
      "metadata": {
        "id": "0e81c762-e6c5-424e-a4eb-12ab45dffb9f"
      },
      "source": [
        "Spotify songs are identified by either a \"url\", a \"uri\", or an \"id\".\n",
        "\n",
        "- The `id` is an alphanumeric code, and it's the nuclear part of the identifier.\n",
        "\n",
        "- The `uri` contains \"spotify:track\" before the id. An uri is useful because it can be searched manually in the Spotify app.\n",
        "\n",
        "- The `url` is a link to the song on the Spotify web player.\n"
      ]
    },
    {
      "cell_type": "code",
      "execution_count": null,
      "id": "8bcdccfc-dde9-4f4b-8af5-3caa335b89b5",
      "metadata": {
        "id": "8bcdccfc-dde9-4f4b-8af5-3caa335b89b5"
      },
      "outputs": [],
      "source": [
        "results[\"tracks\"][\"items\"][0][\"uri\"]"
      ]
    },
    {
      "cell_type": "markdown",
      "id": "71c3c9c1-4ec2-42bf-a243-b21105ae1699",
      "metadata": {
        "id": "71c3c9c1-4ec2-42bf-a243-b21105ae1699"
      },
      "source": [
        "## Exercise 1: Discovering New Music through Your Favorite Artists\n",
        "\n",
        "**Objective:**\n",
        "Uncover new music by exploring the top tracks of your favorite artists and their related artists.\n",
        "\n",
        "**Instructions:**\n",
        "\n",
        "1. **List Your Favorite Artists**:\n",
        "    - Make a list of your three favorite artists and store it in a variable named `artists`.\n",
        "    - Example: `artists = [\"Los Fabulosos Cadillacs\", \"Manu Chao\", \"Muchachito Bombo Infierno\"]`.\n",
        "\n",
        "2. **Fetch Top Tracks**:\n",
        "    - Write a function named `get_top_tracks`.\n",
        "    - This function should accept an artist's name and return the name of the first 5 top tracks by that artist.\n",
        "    - Use the function `get_top_tracks` to get the first 5 top tracks for each artist in your `artists` list and store the results in a new list named `top_tracks_list`.\n",
        "\n",
        "3. **Discover Related Artists**:\n",
        "    - Write a function named `find_related_artists`.\n",
        "    - This function should accept an artist's name and return the names of the first 5 artists related to the provided artist.\n",
        "    - Store the results in a list named `related_artists_list`.\n",
        "\n",
        "**Challenge:**\n",
        "Combine the above steps to create a playlist that includes the top tracks of your favorite artists and the top tracks of the artists related to them."
      ]
    },
    {
      "cell_type": "code",
      "source": [
        "CLIENT_ID = \"426cd0b8b8564a8eb9e3114197267250\"\n",
        "CLIENT_SECRET = \"155804dea6f74450a4a159325151998f\""
      ],
      "metadata": {
        "id": "L3tudnas2rIk"
      },
      "id": "L3tudnas2rIk",
      "execution_count": null,
      "outputs": []
    },
    {
      "cell_type": "code",
      "source": [
        "pip install retrying"
      ],
      "metadata": {
        "colab": {
          "base_uri": "https://localhost:8080/"
        },
        "id": "i84GTIEq2j9S",
        "outputId": "061901de-f802-4c7e-da38-066d648c7059"
      },
      "id": "i84GTIEq2j9S",
      "execution_count": 116,
      "outputs": [
        {
          "output_type": "stream",
          "name": "stdout",
          "text": [
            "Requirement already satisfied: retrying in /usr/local/lib/python3.10/dist-packages (1.3.4)\n",
            "Requirement already satisfied: six>=1.7.0 in /usr/local/lib/python3.10/dist-packages (from retrying) (1.16.0)\n"
          ]
        }
      ]
    },
    {
      "cell_type": "code",
      "source": [
        "import spotipy\n",
        "from spotipy.oauth2 import SpotifyClientCredentials\n",
        "from retrying import retry\n",
        "\n",
        "@retry(wait_exponential_multiplier=1000, wait_exponential_max=10000)\n",
        "def get_top_tracks(artist_name):\n",
        "    client_credentials_manager = SpotifyClientCredentials(client_id='426cd0b8b8564a8eb9e3114197267250', client_secret='155804dea6f74450a4a159325151998f')\n",
        "    sp = spotipy.Spotify(client_credentials_manager=client_credentials_manager)\n",
        "\n",
        "    results = sp.search(q='artist:' + artist_name, type='artist', limit=1)\n",
        "    items = results['artists']['items']\n",
        "\n",
        "    if len(items) > 0:\n",
        "        artist_id = items[0]['id']\n",
        "        top_tracks = sp.artist_top_tracks(artist_id)\n",
        "        top_tracks_names = [track['name'] for track in top_tracks['tracks'][:5]]\n",
        "        return top_tracks_names\n",
        "    else:\n",
        "        return None\n",
        "\n",
        "artists_list = [\"Adele\", \"Frank Sinatra\", \"Rihanna\"]\n",
        "\n",
        "top_tracks_list = []\n",
        "for artist in artists_list:\n",
        "    try:\n",
        "        top_tracks = get_top_tracks(artist)\n",
        "        if top_tracks:\n",
        "            top_tracks_list.append(top_tracks)\n",
        "        else:\n",
        "            print(f\"No artist found with the name '{artist}'\")\n",
        "    except Exception as e:\n",
        "        print(f\"An error occurred while fetching top tracks for '{artist}': {e}\")\n",
        "\n",
        "adele_top_tracks = top_tracks_list[0]\n",
        "frank_sinatra_top_tracks = top_tracks_list[1]\n",
        "rihanna_top_tracks = top_tracks_list[2]\n",
        "\n",
        "print(\"Adele's Top Tracks:\", adele_top_tracks)\n",
        "print(\"Frank Sinatra's Top Tracks:\", frank_sinatra_top_tracks)\n",
        "print(\"Rihanna's Top Tracks:\", rihanna_top_tracks)\n"
      ],
      "metadata": {
        "colab": {
          "base_uri": "https://localhost:8080/"
        },
        "id": "mxpi5woz2U1R",
        "outputId": "d0b65587-5765-4ab5-a58f-73ba0c96582d"
      },
      "id": "mxpi5woz2U1R",
      "execution_count": 155,
      "outputs": [
        {
          "output_type": "stream",
          "name": "stdout",
          "text": [
            "Adele's Top Tracks: ['Set Fire to the Rain', 'Skyfall', 'Easy On Me', 'Rolling in the Deep', 'Someone Like You']\n",
            "Frank Sinatra's Top Tracks: ['Let It Snow! Let It Snow! Let It Snow! (with The B. Swanson Quartet)', 'Jingle Bells - Remastered 1999', \"Somethin' Stupid\", 'Fly Me To The Moon (In Other Words)', 'My Way']\n",
            "Rihanna's Top Tracks: ['We Found Love', 'Diamonds', 'Umbrella', 'Only Girl (In The World)', 'Love On The Brain']\n"
          ]
        }
      ]
    },
    {
      "cell_type": "code",
      "source": [
        "#RELATED ARTISTS\n",
        "\n",
        "import spotipy\n",
        "from spotipy.oauth2 import SpotifyClientCredentials\n",
        "\n",
        "def find_related_artists(artist_name):\n",
        "    client_credentials_manager = SpotifyClientCredentials(client_id='426cd0b8b8564a8eb9e3114197267250', client_secret='155804dea6f74450a4a159325151998f')\n",
        "    sp = spotipy.Spotify(client_credentials_manager=client_credentials_manager)\n",
        "\n",
        "    results = sp.search(q='artist:' + artist_name, type='artist', limit=1)\n",
        "    items = results['artists']['items']\n",
        "\n",
        "    if len(items) > 0:\n",
        "        artist_id = items[0]['id']\n",
        "        related_artists = sp.artist_related_artists(artist_id)\n",
        "        related_artists_names = [artist['name'] for artist in related_artists['artists'][:5]]\n",
        "        return related_artists_names\n",
        "    else:\n",
        "        return None\n",
        "\n",
        "artist_name = \"Adele\"\n",
        "related_artists_list = find_related_artists(artist_name)\n",
        "print(\"Related Artists for\", artist_name, \":\", related_artists_list)\n"
      ],
      "metadata": {
        "colab": {
          "base_uri": "https://localhost:8080/"
        },
        "id": "bxz1BaVc-eTP",
        "outputId": "33991f70-dd21-48aa-e57a-7668d3ddef59"
      },
      "id": "bxz1BaVc-eTP",
      "execution_count": 118,
      "outputs": [
        {
          "output_type": "stream",
          "name": "stdout",
          "text": [
            "Related Artists for Adele : ['Sia', 'Sam Smith', 'P!nk', 'Kelly Clarkson', 'Lady Gaga']\n"
          ]
        }
      ]
    },
    {
      "cell_type": "code",
      "source": [
        "\n",
        "playlist_results = sp.search(q='playlist:Today\\'s Top Hits', type='playlist', limit=1)\n",
        "\n",
        "if playlist_results['playlists']['items']:\n",
        "    playlist_id = playlist_results['playlists']['items'][0]['id']\n",
        "    print(\"Playlist ID:\", playlist_id)\n",
        "else:\n",
        "    print(\"Playlist not found.\")\n"
      ],
      "metadata": {
        "colab": {
          "base_uri": "https://localhost:8080/"
        },
        "id": "hQ1NV3myAzR_",
        "outputId": "e6d4160a-4c77-41a7-d397-bc62645e50d7"
      },
      "id": "hQ1NV3myAzR_",
      "execution_count": 137,
      "outputs": [
        {
          "output_type": "stream",
          "name": "stdout",
          "text": [
            "Playlist ID: 616Qp0zau2DGpFaEMtuI70\n"
          ]
        }
      ]
    },
    {
      "cell_type": "markdown",
      "id": "0c442378-e26f-47c8-b4f1-b4fa07089935",
      "metadata": {
        "id": "0c442378-e26f-47c8-b4f1-b4fa07089935"
      },
      "source": [
        "**Hint Section for 3. **Discover Related Artists**:**\n",
        "\n",
        "1. **Getting Artist ID**:\n",
        "    - Remember that every artist on Spotify has a unique identifier: their `id`. To get the related artists, you first need to fetch the ID of the given artist.\n",
        "    - Consider using the `sp.search` method to query the artist's name. The method requires a `q` parameter, which is your query (in this case, the artist's name). It also has a `limit` parameter, which specifies the number of tracks it returns. In this case, 1 track is enough, since we just want the artist ID.\n",
        "    - Each track in the results has an associated 'artists' field. This field is a list containing details about all artists involved in that track.\n",
        "   - For most tracks, especially those by a single artist, this list will contain one artist. From this artist's details, you can extract the 'id' field, which is the unique identifier for that artist on Spotify.\n",
        "\n",
        "\n",
        "3. **Fetching Related Artists**:\n",
        "    - Once you have the artist's ID, you can use another SpotiPy method to fetch related artists. Think about which SpotiPy method allows you to get related artists using an artist's ID. Here is the documentation link: https://spotipy.readthedocs.io/en/2.22.1/.\n",
        "    - This method will return a list of related artists. You'll need to extract the relevant details (artist names) from this list.\n",
        "\n",
        "4. **Iterating for Multiple Artists**:\n",
        "    - Once you have a function that returns related artists names for one artist, you can use a list comprehension to apply this function to a list of artist names.\n",
        "\n",
        "5. **Testing**:\n",
        "    - Always test your function with one artist name first. Once you're confident it works, then apply it to the entire list.\n",
        "\n",
        "Remember, the key is to break the problem down into manageable steps. Use the SpotiPy documentation as a resource to understand available methods and their return structures."
      ]
    },
    {
      "cell_type": "markdown",
      "id": "94ad5fdc-22e5-4521-8aa1-c6833eb7e949",
      "metadata": {
        "id": "94ad5fdc-22e5-4521-8aa1-c6833eb7e949"
      },
      "source": [
        "## Playlists\n",
        "\n",
        "The `sp.featured_playlists()` method in `spotipy` fetches a list of Spotify's featured playlists at a given moment. These are curated playlists that Spotify often highlights on the platform's homepage. The method provides a snapshot of the playlists that are being promoted or featured by Spotify at the time of the request.\n",
        "\n",
        "Once you've fetched the featured playlists, you can extract their IDs (and other details)."
      ]
    },
    {
      "cell_type": "code",
      "execution_count": 134,
      "id": "25fb0cf8-c13a-41b0-b8f8-7e0700fd1e41",
      "metadata": {
        "colab": {
          "base_uri": "https://localhost:8080/"
        },
        "id": "25fb0cf8-c13a-41b0-b8f8-7e0700fd1e41",
        "outputId": "91ff5a76-072f-4b76-dac7-3317231f8881"
      },
      "outputs": [
        {
          "output_type": "stream",
          "name": "stdout",
          "text": [
            "Playlist Name: Today’s Top Hits Clean (radio edits)\n",
            "Playlist ID: 616Qp0zau2DGpFaEMtuI70\n",
            "Playlist URI: spotify:playlist:616Qp0zau2DGpFaEMtuI70\n",
            "Total Tracks: 80\n",
            "\n",
            "Tracks:\n",
            "BREAK MY SOUL - Beyoncé\n",
            "I Like You (A Happier Song) (with Doja Cat) - Post Malone, Doja Cat\n",
            "Pipes - Lux Thugs\n",
            "Falling Back - Drake\n",
            "As It Was - Harry Styles\n",
            "Glimpse of Us - Joji\n",
            "First Class - Jack Harlow\n",
            "Woman - Doja Cat\n",
            "Surfboard - Lux Thugs\n",
            "Take What You Want (feat. Ozzy Osbourne & Travis Scott) - Post Malone, Ozzy Osbourne, Travis Scott\n",
            "Ojitos Lindos - Bad Bunny, Bomba Estéreo\n",
            "Ghost - Justin Bieber\n",
            "WAIT FOR U (feat. Drake & Tems) - Future, Tems, Drake\n",
            "Late Night Talking - Harry Styles\n",
            "Happy People - Lux Thugs\n",
            "Bam Bam (feat. Ed Sheeran) - Camila Cabello, Ed Sheeran\n",
            "PROVENZA - KAROL G\n",
            "Where Are You Now - Lost Frequencies, Calum Scott\n",
            "Yet To Come - BTS\n",
            "THATS WHAT I WANT - Lil Nas X\n",
            "Like You - Lux Thugs\n",
            "Cooped Up (with Roddy Ricch) - Post Malone, Roddy Ricch\n",
            "Big Energy - Latto\n",
            "Te Felicito - Shakira, Rauw Alejandro\n",
            "Light Switch - Charlie Puth\n",
            "Sunroof - Nicky Youre, dazy\n",
            "TKM - Lux Thugs\n",
            "MIDDLE OF THE NIGHT - Elley Duhé\n",
            "Fire - Natalie Gray\n",
            "So Good - Halsey\n",
            "Sweeter Things - Leanne Robinson\n",
            "she's all i wanna be - Tate McRae\n",
            "Do It Again - Hvnnibvl\n",
            "I Ain't Worried - OneRepublic\n",
            "A House Is Not a Home - J Matthew\n",
            "Sweetest Pie - Megan Thee Stallion, Dua Lipa\n",
            "PiroueTTe - Leanne Robinson\n",
            "STAY (with Justin Bieber) - The Kid LAROI, Justin Bieber\n",
            "Underwater - KEIYLA\n",
            "Heat Waves - Glass Animals\n",
            "Lifetime - Vaelocity, Steve Sonic\n",
            "Hold My Hand - Lady Gaga\n",
            "I Don't Believe You - CROSSLEY\n",
            "Shivers - Ed Sheeran\n",
            "Numb - Marshmello, Khalid\n",
            "Until I Found You - Stephen Sanchez\n",
            "True Love - Kanye West, XXXTENTACION\n",
            "Die Hard - Kendrick Lamar, Blxst, Amanda Reifer\n",
            "Cold Heart - PNAU Remix - Elton John, Dua Lipa, PNAU\n",
            "In The Stars - Benson Boone\n",
            "SUPERMODEL - Måneskin\n",
            "INDUSTRY BABY (feat. Jack Harlow) - Lil Nas X, Jack Harlow\n",
            "N95 - Kendrick Lamar\n",
            "Where Did You Go? - Jax Jones, MNEK\n",
            "The Motto - Tiësto, Ava Max\n",
            "Love Huh? - Lux Thugs\n",
            "Blinding Lights - The Weeknd\n",
            "Levitating (feat. DaBaby) - Dua Lipa, DaBaby\n",
            "Peaches (feat. Daniel Caesar & Giveon) - Justin Bieber, Daniel Caesar, Giveon\n",
            "Kiss Me More (feat. SZA) - Doja Cat, SZA\n",
            "Save Your Tears (with Ariana Grande) (Remix) - The Weeknd, Ariana Grande\n",
            "Praise God - Kanye West\n",
            "Angels - Lux Thugs\n",
            "Fair Trade (with Travis Scott) - Drake, Travis Scott\n",
            "Blessings REMIX (feat. French Montana & Davido) - Angel, French Montana, Davido\n",
            "Leave Before You Love Me (with Jonas Brothers) - Marshmello, Jonas Brothers\n",
            "Happier Than Ever - Edit - Billie Eilish\n",
            "What You Know Bout Love - Pop Smoke\n",
            "good 4 u - Olivia Rodrigo\n",
            "Hurtin' Me - Stefflon Don, French Montana\n",
            "Mood (feat. iann dior) - 24kGoldn, iann dior\n",
            "ROCKSTAR (feat. Roddy Ricch) - DaBaby, Roddy Ricch\n",
            "positions - Ariana Grande\n",
            "My Lover - Not3s x Mabel - Not3s, Mabel\n",
            "traitor - Olivia Rodrigo\n",
            "Don't Start Now - Dua Lipa\n",
            "Dancing Man - J Hus\n",
            "On The Ground - ROSÉ\n",
            "Bad Habits - Ed Sheeran\n",
            "Stuck with U (with Justin Bieber) - Ariana Grande, Justin Bieber\n"
          ]
        }
      ],
      "source": [
        "\n",
        "playlist_id = '616Qp0zau2DGpFaEMtuI70'\n",
        "\n",
        "playlist = sp.playlist(playlist_id)\n",
        "\n",
        "print(\"Playlist Name:\", playlist['name'])\n",
        "print(\"Playlist ID:\", playlist['id'])\n",
        "print(\"Playlist URI:\", playlist['uri'])\n",
        "print(\"Total Tracks:\", playlist['tracks']['total'])\n",
        "\n",
        "print(\"\\nTracks:\")\n",
        "for track in playlist['tracks']['items']:\n",
        "    track_name = track['track']['name']\n",
        "    artists = \", \".join([artist['name'] for artist in track['track']['artists']])\n",
        "    print(f\"{track_name} - {artists}\")\n"
      ]
    },
    {
      "cell_type": "code",
      "source": [
        "\n",
        "featured_playlists = sp.featured_playlists()\n",
        "\n",
        "playlist_details = []\n",
        "for playlist in featured_playlists['playlists']['items']:\n",
        "    playlist_id = playlist['id']\n",
        "    playlist_name = playlist['name']\n",
        "    playlist_uri = playlist['uri']\n",
        "    playlist_details.append({'id': playlist_id, 'name': playlist_name, 'uri': playlist_uri})\n",
        "\n",
        "for playlist in playlist_details:\n",
        "    print(\"Playlist Name:\", playlist['name'])\n",
        "    print(\"Playlist ID:\", playlist['id'])\n",
        "    print(\"Playlist URI:\", playlist['uri'])\n",
        "    print()\n"
      ],
      "metadata": {
        "colab": {
          "base_uri": "https://localhost:8080/"
        },
        "id": "519e6rdlBa0n",
        "outputId": "07d7c7ce-28f2-4364-c49c-01b8bed09668"
      },
      "id": "519e6rdlBa0n",
      "execution_count": 132,
      "outputs": [
        {
          "output_type": "stream",
          "name": "stdout",
          "text": [
            "Playlist Name: Today’s Top Hits\n",
            "Playlist ID: 37i9dQZF1DXcBWIGoYBM5M\n",
            "Playlist URI: spotify:playlist:37i9dQZF1DXcBWIGoYBM5M\n",
            "\n",
            "Playlist Name: RapCaviar\n",
            "Playlist ID: 37i9dQZF1DX0XUsuxWHRQd\n",
            "Playlist URI: spotify:playlist:37i9dQZF1DX0XUsuxWHRQd\n",
            "\n",
            "Playlist Name: Hot Hits USA\n",
            "Playlist ID: 37i9dQZF1DX0kbJZpiYdZl\n",
            "Playlist URI: spotify:playlist:37i9dQZF1DX0kbJZpiYdZl\n",
            "\n",
            "Playlist Name: Hot Country\n",
            "Playlist ID: 37i9dQZF1DX1lVhptIYRda\n",
            "Playlist URI: spotify:playlist:37i9dQZF1DX1lVhptIYRda\n",
            "\n",
            "Playlist Name: Viva Latino\n",
            "Playlist ID: 37i9dQZF1DX10zKzsJ2jva\n",
            "Playlist URI: spotify:playlist:37i9dQZF1DX10zKzsJ2jva\n",
            "\n",
            "Playlist Name: Feelin' Myself\n",
            "Playlist ID: 37i9dQZF1DX6GwdWRQMQpq\n",
            "Playlist URI: spotify:playlist:37i9dQZF1DX6GwdWRQMQpq\n",
            "\n",
            "Playlist Name: This Is Taylor Swift\n",
            "Playlist ID: 37i9dQZF1DX5KpP2LN299J\n",
            "Playlist URI: spotify:playlist:37i9dQZF1DX5KpP2LN299J\n",
            "\n",
            "Playlist Name: New Music Friday\n",
            "Playlist ID: 37i9dQZF1DX4JAvHpjipBk\n",
            "Playlist URI: spotify:playlist:37i9dQZF1DX4JAvHpjipBk\n",
            "\n",
            "Playlist Name: Disney Hits\n",
            "Playlist ID: 37i9dQZF1DX8C9xQcOrE6T\n",
            "Playlist URI: spotify:playlist:37i9dQZF1DX8C9xQcOrE6T\n",
            "\n",
            "Playlist Name: La Reina: Éxitos de la Música Mexicana\n",
            "Playlist ID: 37i9dQZF1DX905zIRtblN3\n",
            "Playlist URI: spotify:playlist:37i9dQZF1DX905zIRtblN3\n",
            "\n",
            "Playlist Name: big on the internet\n",
            "Playlist ID: 37i9dQZF1DX5Vy6DFOcx00\n",
            "Playlist URI: spotify:playlist:37i9dQZF1DX5Vy6DFOcx00\n",
            "\n",
            "Playlist Name: Country Top 50\n",
            "Playlist ID: 37i9dQZF1DX7aUUBCKwo4Y\n",
            "Playlist URI: spotify:playlist:37i9dQZF1DX7aUUBCKwo4Y\n",
            "\n",
            "Playlist Name: Viral Hits\n",
            "Playlist ID: 37i9dQZF1DX2L0iB23Enbq\n",
            "Playlist URI: spotify:playlist:37i9dQZF1DX2L0iB23Enbq\n",
            "\n",
            "Playlist Name: White Noise 10 Hours\n",
            "Playlist ID: 37i9dQZF1DWUZ5bk6qqDSy\n",
            "Playlist URI: spotify:playlist:37i9dQZF1DWUZ5bk6qqDSy\n",
            "\n",
            "Playlist Name: Locked In\n",
            "Playlist ID: 37i9dQZF1DWTl4y3vgJOXW\n",
            "Playlist URI: spotify:playlist:37i9dQZF1DWTl4y3vgJOXW\n",
            "\n",
            "Playlist Name: New Boots\n",
            "Playlist ID: 37i9dQZF1DX8S0uQvJ4gaa\n",
            "Playlist URI: spotify:playlist:37i9dQZF1DX8S0uQvJ4gaa\n",
            "\n",
            "Playlist Name: Pop Rising\n",
            "Playlist ID: 37i9dQZF1DWUa8ZRTfalHk\n",
            "Playlist URI: spotify:playlist:37i9dQZF1DWUa8ZRTfalHk\n",
            "\n",
            "Playlist Name: Peaceful Piano\n",
            "Playlist ID: 37i9dQZF1DX4sWSpwq3LiO\n",
            "Playlist URI: spotify:playlist:37i9dQZF1DX4sWSpwq3LiO\n",
            "\n",
            "Playlist Name: Get Turnt\n",
            "Playlist ID: 37i9dQZF1DWY4xHQp97fN6\n",
            "Playlist URI: spotify:playlist:37i9dQZF1DWY4xHQp97fN6\n",
            "\n",
            "Playlist Name: Just Good Music\n",
            "Playlist ID: 37i9dQZF1DX0b1hHYQtJjp\n",
            "Playlist URI: spotify:playlist:37i9dQZF1DX0b1hHYQtJjp\n",
            "\n"
          ]
        }
      ]
    },
    {
      "cell_type": "markdown",
      "id": "90f558f3-c638-4df4-b5a4-e24f7847d52a",
      "metadata": {
        "id": "90f558f3-c638-4df4-b5a4-e24f7847d52a"
      },
      "source": [
        "### Getting a Playlist's Details\n",
        "To fetch details about a specific playlist, you can use the playlist method. You'll need the playlist's Spotify ID."
      ]
    },
    {
      "cell_type": "markdown",
      "id": "0eef529f-617f-4ea3-8156-07472ac8e6d5",
      "metadata": {
        "id": "0eef529f-617f-4ea3-8156-07472ac8e6d5"
      },
      "source": [
        "In this example, we will use the following playlist id: *37i9dQZF1DXd9zR7tdziuQ*"
      ]
    },
    {
      "cell_type": "code",
      "execution_count": 125,
      "id": "46d35121-9256-4cf4-81f5-118b87f7af32",
      "metadata": {
        "id": "46d35121-9256-4cf4-81f5-118b87f7af32"
      },
      "outputs": [],
      "source": [
        "playlist_id = \"616Qp0zau2DGpFaEMtuI70\"\n",
        "playlist = sp.playlist(playlist_id)"
      ]
    },
    {
      "cell_type": "code",
      "execution_count": 127,
      "id": "5260f67f-6024-4fee-8449-30904f03bf76",
      "metadata": {
        "colab": {
          "base_uri": "https://localhost:8080/"
        },
        "id": "5260f67f-6024-4fee-8449-30904f03bf76",
        "outputId": "92268ca8-c9e6-436a-830d-823be822c3cc"
      },
      "outputs": [
        {
          "output_type": "stream",
          "name": "stdout",
          "text": [
            "Today’s Top Hits Clean (radio edits)\n",
            "Todays Top Hits Clean (radio edits) - Chart topping mix curated for censored listening! In Store Music Playlist for Retail businesses and cafe's. Featuring superstar artists such as Drake, The Weeknd, Ariana Grande, Dua Lipa, Olivia Rodrigo, Justin Bieber, Post Malone, DaBaby and many more! Enjoy!\n"
          ]
        }
      ],
      "source": [
        "print(playlist['name'])\n",
        "print(playlist['description'])"
      ]
    },
    {
      "cell_type": "markdown",
      "id": "13bc8631-69f0-4b98-9cc9-5baecbaea9ba",
      "metadata": {
        "id": "13bc8631-69f0-4b98-9cc9-5baecbaea9ba"
      },
      "source": [
        "### Getting Tracks from a Playlist\n",
        "If you want to get the tracks from a specific playlist, you can use the playlist_tracks method."
      ]
    },
    {
      "cell_type": "code",
      "execution_count": 129,
      "id": "69c78f8d-7e6a-4d15-bcbb-fc93edb82433",
      "metadata": {
        "colab": {
          "base_uri": "https://localhost:8080/"
        },
        "id": "69c78f8d-7e6a-4d15-bcbb-fc93edb82433",
        "outputId": "12d3f599-3881-42e2-f58f-7df972dc2a13"
      },
      "outputs": [
        {
          "output_type": "stream",
          "name": "stdout",
          "text": [
            "BREAK MY SOUL\n",
            "I Like You (A Happier Song) (with Doja Cat)\n",
            "Pipes\n",
            "Falling Back\n",
            "As It Was\n",
            "Glimpse of Us\n",
            "First Class\n",
            "Woman\n",
            "Surfboard\n",
            "Take What You Want (feat. Ozzy Osbourne & Travis Scott)\n",
            "Ojitos Lindos\n",
            "Ghost\n",
            "WAIT FOR U (feat. Drake & Tems)\n",
            "Late Night Talking\n",
            "Happy People\n",
            "Bam Bam (feat. Ed Sheeran)\n",
            "PROVENZA\n",
            "Where Are You Now\n",
            "Yet To Come\n",
            "THATS WHAT I WANT\n",
            "Like You\n",
            "Cooped Up (with Roddy Ricch)\n",
            "Big Energy\n",
            "Te Felicito\n",
            "Light Switch\n",
            "Sunroof\n",
            "TKM\n",
            "MIDDLE OF THE NIGHT\n",
            "Fire\n",
            "So Good\n",
            "Sweeter Things\n",
            "she's all i wanna be\n",
            "Do It Again\n",
            "I Ain't Worried\n",
            "A House Is Not a Home\n",
            "Sweetest Pie\n",
            "PiroueTTe\n",
            "STAY (with Justin Bieber)\n",
            "Underwater\n",
            "Heat Waves\n",
            "Lifetime\n",
            "Hold My Hand\n",
            "I Don't Believe You\n",
            "Shivers\n",
            "Numb\n",
            "Until I Found You\n",
            "True Love\n",
            "Die Hard\n",
            "Cold Heart - PNAU Remix\n",
            "In The Stars\n",
            "SUPERMODEL\n",
            "INDUSTRY BABY (feat. Jack Harlow)\n",
            "N95\n",
            "Where Did You Go?\n",
            "The Motto\n",
            "Love Huh?\n",
            "Blinding Lights\n",
            "Levitating (feat. DaBaby)\n",
            "Peaches (feat. Daniel Caesar & Giveon)\n",
            "Kiss Me More (feat. SZA)\n",
            "Save Your Tears (with Ariana Grande) (Remix)\n",
            "Praise God\n",
            "Angels\n",
            "Fair Trade (with Travis Scott)\n",
            "Blessings REMIX (feat. French Montana & Davido)\n",
            "Leave Before You Love Me (with Jonas Brothers)\n",
            "Happier Than Ever - Edit\n",
            "What You Know Bout Love\n",
            "good 4 u\n",
            "Hurtin' Me\n",
            "Mood (feat. iann dior)\n",
            "ROCKSTAR (feat. Roddy Ricch)\n",
            "positions\n",
            "My Lover - Not3s x Mabel\n",
            "traitor\n",
            "Don't Start Now\n",
            "Dancing Man\n",
            "On The Ground\n",
            "Bad Habits\n",
            "Stuck with U (with Justin Bieber)\n"
          ]
        }
      ],
      "source": [
        "tracks = sp.playlist_tracks(playlist_id)\n",
        "for track in tracks['items']:\n",
        "    print(track['track']['name'])"
      ]
    },
    {
      "cell_type": "markdown",
      "id": "2775714d-acc7-4555-96bd-2c541ab0855e",
      "metadata": {
        "id": "2775714d-acc7-4555-96bd-2c541ab0855e"
      },
      "source": [
        "### Getting Artists from a Playlist\n",
        "\n",
        "To extract all the artists from the tracks in a playlist, you'd typically follow these steps:\n",
        "\n",
        "1. Fetch the playlist's tracks.\n",
        "2. Iterate through each track.\n",
        "3. For each track, extract the associated artists."
      ]
    },
    {
      "cell_type": "code",
      "execution_count": 130,
      "id": "65c5e5c4-f186-42c6-b136-4ef02b0b01ff",
      "metadata": {
        "colab": {
          "base_uri": "https://localhost:8080/"
        },
        "id": "65c5e5c4-f186-42c6-b136-4ef02b0b01ff",
        "outputId": "8e864c02-cfc9-433d-bcc5-76b4c29e5d64"
      },
      "outputs": [
        {
          "output_type": "stream",
          "name": "stdout",
          "text": [
            "['Beyoncé', 'Post Malone', 'Doja Cat', 'Lux Thugs', 'Drake', 'Harry Styles', 'Joji', 'Jack Harlow', 'Ozzy Osbourne', 'Travis Scott', 'Bad Bunny', 'Bomba Estéreo', 'Justin Bieber', 'Future', 'Tems', 'Camila Cabello', 'Ed Sheeran', 'KAROL G', 'Lost Frequencies', 'Calum Scott', 'BTS', 'Lil Nas X', 'Roddy Ricch', 'Latto', 'Shakira', 'Rauw Alejandro', 'Charlie Puth', 'Nicky Youre', 'dazy', 'Elley Duhé', 'Natalie Gray', 'Halsey', 'Leanne Robinson', 'Tate McRae', 'Hvnnibvl', 'OneRepublic', 'J Matthew', 'Megan Thee Stallion', 'Dua Lipa', 'The Kid LAROI', 'KEIYLA', 'Glass Animals', 'Vaelocity', 'Steve Sonic', 'Lady Gaga', 'CROSSLEY', 'Marshmello', 'Khalid', 'Stephen Sanchez', 'Kanye West', 'XXXTENTACION', 'Kendrick Lamar', 'Blxst', 'Amanda Reifer', 'Elton John', 'PNAU', 'Benson Boone', 'Måneskin', 'Jax Jones', 'MNEK', 'Tiësto', 'Ava Max', 'The Weeknd', 'DaBaby', 'Daniel Caesar', 'Giveon', 'SZA', 'Ariana Grande', 'Angel', 'French Montana', 'Davido', 'Jonas Brothers', 'Billie Eilish', 'Pop Smoke', 'Olivia Rodrigo', 'Stefflon Don', '24kGoldn', 'iann dior', 'Not3s', 'Mabel', 'J Hus', 'ROSÉ']\n"
          ]
        }
      ],
      "source": [
        "artists_list = []\n",
        "\n",
        "for track_item in tracks['items']:\n",
        "    track = track_item['track']\n",
        "    for artist in track['artists']:\n",
        "        artist_name = artist['name']\n",
        "        if artist_name not in artists_list:\n",
        "            artists_list.append(artist_name)\n",
        "\n",
        "print(artists_list)"
      ]
    },
    {
      "cell_type": "markdown",
      "id": "7b52207e-a4f0-4f90-9f4e-3170d7f0f3fe",
      "metadata": {
        "id": "7b52207e-a4f0-4f90-9f4e-3170d7f0f3fe"
      },
      "source": [
        "## Exercise 2: Unraveling the World of Playlists\n",
        "\n",
        "\n",
        "1. **Featured Exploration**:\n",
        "   - Fetch the list of Spotify's current featured playlists.\n",
        "   - Extract and display the names and IDs of the top 5 featured playlists.\n",
        "   \n",
        "2. **Deep Dive**:\n",
        "   - Choose any one of the top 5 featured playlists (you can choose the one you personally find most interesting or simply pick one randomly).\n",
        "   - Fetch and display its name, description, and total track count.\n",
        "\n",
        "3. **Track-tastic**:\n",
        "   - Extract and display the names of the first 10 tracks in the chosen playlist.\n",
        "\n",
        "4. **Artistic Flair**:\n",
        "   - Create a dictionary where the keys are the names of the first 10 tracks, and the values are lists containing the names of the artists associated with each track.\n",
        "   - For example: `{\"TrackName1\": [\"Artist1\", \"Artist2\"], \"TrackName2\": [\"Artist3\"]}`\n",
        "   "
      ]
    },
    {
      "cell_type": "code",
      "execution_count": 144,
      "id": "ed92d961-9646-4375-a386-ccc320a958f5",
      "metadata": {
        "colab": {
          "base_uri": "https://localhost:8080/"
        },
        "id": "ed92d961-9646-4375-a386-ccc320a958f5",
        "outputId": "5e33878a-c1d5-4f40-ec6b-1dfad6f1398e"
      },
      "outputs": [
        {
          "output_type": "stream",
          "name": "stdout",
          "text": [
            "Top 5 Featured Playlists:\n",
            "Playlist Name: Today’s Top Hits\n",
            "Playlist ID: 37i9dQZF1DXcBWIGoYBM5M\n",
            "\n",
            "Playlist Name: RapCaviar\n",
            "Playlist ID: 37i9dQZF1DX0XUsuxWHRQd\n",
            "\n",
            "Playlist Name: Hot Hits USA\n",
            "Playlist ID: 37i9dQZF1DX0kbJZpiYdZl\n",
            "\n",
            "Playlist Name: Hot Country\n",
            "Playlist ID: 37i9dQZF1DX1lVhptIYRda\n",
            "\n",
            "Playlist Name: Viva Latino\n",
            "Playlist ID: 37i9dQZF1DX10zKzsJ2jva\n",
            "\n",
            "Chosen Playlist Details:\n",
            "Name: Viva Latino\n",
            "Description: Today's top Latin hits, elevando nuestra música. Cover: Blessd & Feid\n",
            "Total Tracks: 50\n",
            "\n",
            "First 10 Tracks in the Chosen Playlist:\n",
            "1. SI SABE FERXXO\n",
            "2. BELLAKEO\n",
            "3. La Diabla\n",
            "4. La Intención\n",
            "5. PERRO NEGRO\n",
            "6. LA FALDA\n",
            "7. Young Miko: Bzrp Music Sessions, Vol. 58\n",
            "8. FIRST LOVE\n",
            "9. LUNA\n",
            "10. Igual Que Un Ángel (with Peso Pluma)\n"
          ]
        },
        {
          "output_type": "execute_result",
          "data": {
            "text/plain": [
              "['SI SABE FERXXO',\n",
              " 'BELLAKEO',\n",
              " 'La Diabla',\n",
              " 'La Intención',\n",
              " 'PERRO NEGRO',\n",
              " 'LA FALDA',\n",
              " 'Young Miko: Bzrp Music Sessions, Vol. 58',\n",
              " 'FIRST LOVE',\n",
              " 'LUNA',\n",
              " 'Igual Que Un Ángel (with Peso Pluma)']"
            ]
          },
          "metadata": {},
          "execution_count": 144
        }
      ],
      "source": [
        "\n",
        "featured_playlists = sp.featured_playlists()\n",
        "\n",
        "print(\"Top 5 Featured Playlists:\")\n",
        "for playlist in featured_playlists['playlists']['items'][:5]:\n",
        "    print(\"Playlist Name:\", playlist['name'])\n",
        "    print(\"Playlist ID:\", playlist['id'])\n",
        "    print()\n",
        "\n",
        "chosen_playlist_id = featured_playlists['playlists']['items'][4]['id']\n",
        "\n",
        "# Step 4: Fetch and display details of the chosen playlist\n",
        "chosen_playlist = sp.playlist(chosen_playlist_id)\n",
        "print(\"Chosen Playlist Details:\")\n",
        "print(\"Name:\", chosen_playlist['name'])\n",
        "print(\"Description:\", chosen_playlist['description'])\n",
        "print(\"Total Tracks:\", chosen_playlist['tracks']['total'])\n",
        "print()\n",
        "\n",
        "print(\"First 10 Tracks in the Chosen Playlist:\")\n",
        "for idx, track in enumerate(chosen_playlist['tracks']['items'][:10], start=1):\n",
        "    print(f\"{idx}. {track['track']['name']}\")\n",
        "\n",
        "# Step 6: Create a dictionary with the names of the first 10 tracks and their associated artists\n",
        "tracks_artists_dict = {}\n",
        "for track in chosen_playlist['tracks']['items'][:10]:\n",
        "    track_name = track['track']['name']\n",
        "    artists = [artist['name'] for artist in track['track']['artists']]\n",
        "    tracks_artists_dict[track_name] = artists\n",
        "\n",
        "list(tracks_artists_dict)\n"
      ]
    },
    {
      "cell_type": "code",
      "source": [
        "import pandas as pd\n",
        "\n",
        "featured_playlists = sp.featured_playlists()\n",
        "\n",
        "top_5_playlists_data = []\n",
        "for playlist in featured_playlists['playlists']['items'][:5]:\n",
        "    playlist_data = {\n",
        "        'Playlist Name': playlist['name'],\n",
        "        'Playlist ID': playlist['id']\n",
        "    }\n",
        "\n",
        "top_5_playlists_data.append(playlist_data)\n",
        "\n",
        "top_5_playlists_df = pd.DataFrame(top_5_playlists_data)\n",
        "\n",
        "chosen_playlist_id = featured_playlists['playlists']['items'][0]['id']\n",
        "\n",
        "chosen_playlist = sp.playlist(chosen_playlist_id)\n",
        "\n",
        "tracks_data = []\n",
        "for track in chosen_playlist['tracks']['items'][:10]:\n",
        "    track_data = {\n",
        "        'Track Name': track['track']['name'],\n",
        "        'Artists': \", \".join([artist['name'] for artist in track['track']['artists']])\n",
        "    }\n",
        "    tracks_data.append(track_data)\n",
        "\n",
        "tracks_df = pd.DataFrame(tracks_data)\n",
        "\n",
        "\n",
        "display(top_5_playlists_df)\n",
        "display(tracks_df)"
      ],
      "metadata": {
        "colab": {
          "base_uri": "https://localhost:8080/",
          "height": 427
        },
        "id": "hQzrTiNLEZSf",
        "outputId": "e408dad3-41cd-4b95-f94e-a6f369b2d064"
      },
      "id": "hQzrTiNLEZSf",
      "execution_count": 152,
      "outputs": [
        {
          "output_type": "display_data",
          "data": {
            "text/plain": [
              "  Playlist Name             Playlist ID\n",
              "0   Viva Latino  37i9dQZF1DX10zKzsJ2jva"
            ],
            "text/html": [
              "\n",
              "  <div id=\"df-e13cd988-084e-4e18-a3ec-ac89d2dc406a\" class=\"colab-df-container\">\n",
              "    <div>\n",
              "<style scoped>\n",
              "    .dataframe tbody tr th:only-of-type {\n",
              "        vertical-align: middle;\n",
              "    }\n",
              "\n",
              "    .dataframe tbody tr th {\n",
              "        vertical-align: top;\n",
              "    }\n",
              "\n",
              "    .dataframe thead th {\n",
              "        text-align: right;\n",
              "    }\n",
              "</style>\n",
              "<table border=\"1\" class=\"dataframe\">\n",
              "  <thead>\n",
              "    <tr style=\"text-align: right;\">\n",
              "      <th></th>\n",
              "      <th>Playlist Name</th>\n",
              "      <th>Playlist ID</th>\n",
              "    </tr>\n",
              "  </thead>\n",
              "  <tbody>\n",
              "    <tr>\n",
              "      <th>0</th>\n",
              "      <td>Viva Latino</td>\n",
              "      <td>37i9dQZF1DX10zKzsJ2jva</td>\n",
              "    </tr>\n",
              "  </tbody>\n",
              "</table>\n",
              "</div>\n",
              "    <div class=\"colab-df-buttons\">\n",
              "\n",
              "  <div class=\"colab-df-container\">\n",
              "    <button class=\"colab-df-convert\" onclick=\"convertToInteractive('df-e13cd988-084e-4e18-a3ec-ac89d2dc406a')\"\n",
              "            title=\"Convert this dataframe to an interactive table.\"\n",
              "            style=\"display:none;\">\n",
              "\n",
              "  <svg xmlns=\"http://www.w3.org/2000/svg\" height=\"24px\" viewBox=\"0 -960 960 960\">\n",
              "    <path d=\"M120-120v-720h720v720H120Zm60-500h600v-160H180v160Zm220 220h160v-160H400v160Zm0 220h160v-160H400v160ZM180-400h160v-160H180v160Zm440 0h160v-160H620v160ZM180-180h160v-160H180v160Zm440 0h160v-160H620v160Z\"/>\n",
              "  </svg>\n",
              "    </button>\n",
              "\n",
              "  <style>\n",
              "    .colab-df-container {\n",
              "      display:flex;\n",
              "      gap: 12px;\n",
              "    }\n",
              "\n",
              "    .colab-df-convert {\n",
              "      background-color: #E8F0FE;\n",
              "      border: none;\n",
              "      border-radius: 50%;\n",
              "      cursor: pointer;\n",
              "      display: none;\n",
              "      fill: #1967D2;\n",
              "      height: 32px;\n",
              "      padding: 0 0 0 0;\n",
              "      width: 32px;\n",
              "    }\n",
              "\n",
              "    .colab-df-convert:hover {\n",
              "      background-color: #E2EBFA;\n",
              "      box-shadow: 0px 1px 2px rgba(60, 64, 67, 0.3), 0px 1px 3px 1px rgba(60, 64, 67, 0.15);\n",
              "      fill: #174EA6;\n",
              "    }\n",
              "\n",
              "    .colab-df-buttons div {\n",
              "      margin-bottom: 4px;\n",
              "    }\n",
              "\n",
              "    [theme=dark] .colab-df-convert {\n",
              "      background-color: #3B4455;\n",
              "      fill: #D2E3FC;\n",
              "    }\n",
              "\n",
              "    [theme=dark] .colab-df-convert:hover {\n",
              "      background-color: #434B5C;\n",
              "      box-shadow: 0px 1px 3px 1px rgba(0, 0, 0, 0.15);\n",
              "      filter: drop-shadow(0px 1px 2px rgba(0, 0, 0, 0.3));\n",
              "      fill: #FFFFFF;\n",
              "    }\n",
              "  </style>\n",
              "\n",
              "    <script>\n",
              "      const buttonEl =\n",
              "        document.querySelector('#df-e13cd988-084e-4e18-a3ec-ac89d2dc406a button.colab-df-convert');\n",
              "      buttonEl.style.display =\n",
              "        google.colab.kernel.accessAllowed ? 'block' : 'none';\n",
              "\n",
              "      async function convertToInteractive(key) {\n",
              "        const element = document.querySelector('#df-e13cd988-084e-4e18-a3ec-ac89d2dc406a');\n",
              "        const dataTable =\n",
              "          await google.colab.kernel.invokeFunction('convertToInteractive',\n",
              "                                                    [key], {});\n",
              "        if (!dataTable) return;\n",
              "\n",
              "        const docLinkHtml = 'Like what you see? Visit the ' +\n",
              "          '<a target=\"_blank\" href=https://colab.research.google.com/notebooks/data_table.ipynb>data table notebook</a>'\n",
              "          + ' to learn more about interactive tables.';\n",
              "        element.innerHTML = '';\n",
              "        dataTable['output_type'] = 'display_data';\n",
              "        await google.colab.output.renderOutput(dataTable, element);\n",
              "        const docLink = document.createElement('div');\n",
              "        docLink.innerHTML = docLinkHtml;\n",
              "        element.appendChild(docLink);\n",
              "      }\n",
              "    </script>\n",
              "  </div>\n",
              "\n",
              "    </div>\n",
              "  </div>\n"
            ]
          },
          "metadata": {}
        },
        {
          "output_type": "display_data",
          "data": {
            "text/plain": [
              "                                       Track Name  \\\n",
              "0                                       yes, and?   \n",
              "1                                    Lose Control   \n",
              "2                                          greedy   \n",
              "3  One Of The Girls (with JENNIE, Lily Rose Depp)   \n",
              "4                                          redrum   \n",
              "5                                     Lovin On Me   \n",
              "6            Igual Que Un Ángel (with Peso Pluma)   \n",
              "7                              Paint The Town Red   \n",
              "8                                           Water   \n",
              "9                                    Stick Season   \n",
              "\n",
              "                              Artists  \n",
              "0                       Ariana Grande  \n",
              "1                         Teddy Swims  \n",
              "2                          Tate McRae  \n",
              "3  The Weeknd, JENNIE, Lily-Rose Depp  \n",
              "4                           21 Savage  \n",
              "5                         Jack Harlow  \n",
              "6              Kali Uchis, Peso Pluma  \n",
              "7                            Doja Cat  \n",
              "8                                Tyla  \n",
              "9                          Noah Kahan  "
            ],
            "text/html": [
              "\n",
              "  <div id=\"df-13b80dac-d78d-4b81-88e6-53740539fcd4\" class=\"colab-df-container\">\n",
              "    <div>\n",
              "<style scoped>\n",
              "    .dataframe tbody tr th:only-of-type {\n",
              "        vertical-align: middle;\n",
              "    }\n",
              "\n",
              "    .dataframe tbody tr th {\n",
              "        vertical-align: top;\n",
              "    }\n",
              "\n",
              "    .dataframe thead th {\n",
              "        text-align: right;\n",
              "    }\n",
              "</style>\n",
              "<table border=\"1\" class=\"dataframe\">\n",
              "  <thead>\n",
              "    <tr style=\"text-align: right;\">\n",
              "      <th></th>\n",
              "      <th>Track Name</th>\n",
              "      <th>Artists</th>\n",
              "    </tr>\n",
              "  </thead>\n",
              "  <tbody>\n",
              "    <tr>\n",
              "      <th>0</th>\n",
              "      <td>yes, and?</td>\n",
              "      <td>Ariana Grande</td>\n",
              "    </tr>\n",
              "    <tr>\n",
              "      <th>1</th>\n",
              "      <td>Lose Control</td>\n",
              "      <td>Teddy Swims</td>\n",
              "    </tr>\n",
              "    <tr>\n",
              "      <th>2</th>\n",
              "      <td>greedy</td>\n",
              "      <td>Tate McRae</td>\n",
              "    </tr>\n",
              "    <tr>\n",
              "      <th>3</th>\n",
              "      <td>One Of The Girls (with JENNIE, Lily Rose Depp)</td>\n",
              "      <td>The Weeknd, JENNIE, Lily-Rose Depp</td>\n",
              "    </tr>\n",
              "    <tr>\n",
              "      <th>4</th>\n",
              "      <td>redrum</td>\n",
              "      <td>21 Savage</td>\n",
              "    </tr>\n",
              "    <tr>\n",
              "      <th>5</th>\n",
              "      <td>Lovin On Me</td>\n",
              "      <td>Jack Harlow</td>\n",
              "    </tr>\n",
              "    <tr>\n",
              "      <th>6</th>\n",
              "      <td>Igual Que Un Ángel (with Peso Pluma)</td>\n",
              "      <td>Kali Uchis, Peso Pluma</td>\n",
              "    </tr>\n",
              "    <tr>\n",
              "      <th>7</th>\n",
              "      <td>Paint The Town Red</td>\n",
              "      <td>Doja Cat</td>\n",
              "    </tr>\n",
              "    <tr>\n",
              "      <th>8</th>\n",
              "      <td>Water</td>\n",
              "      <td>Tyla</td>\n",
              "    </tr>\n",
              "    <tr>\n",
              "      <th>9</th>\n",
              "      <td>Stick Season</td>\n",
              "      <td>Noah Kahan</td>\n",
              "    </tr>\n",
              "  </tbody>\n",
              "</table>\n",
              "</div>\n",
              "    <div class=\"colab-df-buttons\">\n",
              "\n",
              "  <div class=\"colab-df-container\">\n",
              "    <button class=\"colab-df-convert\" onclick=\"convertToInteractive('df-13b80dac-d78d-4b81-88e6-53740539fcd4')\"\n",
              "            title=\"Convert this dataframe to an interactive table.\"\n",
              "            style=\"display:none;\">\n",
              "\n",
              "  <svg xmlns=\"http://www.w3.org/2000/svg\" height=\"24px\" viewBox=\"0 -960 960 960\">\n",
              "    <path d=\"M120-120v-720h720v720H120Zm60-500h600v-160H180v160Zm220 220h160v-160H400v160Zm0 220h160v-160H400v160ZM180-400h160v-160H180v160Zm440 0h160v-160H620v160ZM180-180h160v-160H180v160Zm440 0h160v-160H620v160Z\"/>\n",
              "  </svg>\n",
              "    </button>\n",
              "\n",
              "  <style>\n",
              "    .colab-df-container {\n",
              "      display:flex;\n",
              "      gap: 12px;\n",
              "    }\n",
              "\n",
              "    .colab-df-convert {\n",
              "      background-color: #E8F0FE;\n",
              "      border: none;\n",
              "      border-radius: 50%;\n",
              "      cursor: pointer;\n",
              "      display: none;\n",
              "      fill: #1967D2;\n",
              "      height: 32px;\n",
              "      padding: 0 0 0 0;\n",
              "      width: 32px;\n",
              "    }\n",
              "\n",
              "    .colab-df-convert:hover {\n",
              "      background-color: #E2EBFA;\n",
              "      box-shadow: 0px 1px 2px rgba(60, 64, 67, 0.3), 0px 1px 3px 1px rgba(60, 64, 67, 0.15);\n",
              "      fill: #174EA6;\n",
              "    }\n",
              "\n",
              "    .colab-df-buttons div {\n",
              "      margin-bottom: 4px;\n",
              "    }\n",
              "\n",
              "    [theme=dark] .colab-df-convert {\n",
              "      background-color: #3B4455;\n",
              "      fill: #D2E3FC;\n",
              "    }\n",
              "\n",
              "    [theme=dark] .colab-df-convert:hover {\n",
              "      background-color: #434B5C;\n",
              "      box-shadow: 0px 1px 3px 1px rgba(0, 0, 0, 0.15);\n",
              "      filter: drop-shadow(0px 1px 2px rgba(0, 0, 0, 0.3));\n",
              "      fill: #FFFFFF;\n",
              "    }\n",
              "  </style>\n",
              "\n",
              "    <script>\n",
              "      const buttonEl =\n",
              "        document.querySelector('#df-13b80dac-d78d-4b81-88e6-53740539fcd4 button.colab-df-convert');\n",
              "      buttonEl.style.display =\n",
              "        google.colab.kernel.accessAllowed ? 'block' : 'none';\n",
              "\n",
              "      async function convertToInteractive(key) {\n",
              "        const element = document.querySelector('#df-13b80dac-d78d-4b81-88e6-53740539fcd4');\n",
              "        const dataTable =\n",
              "          await google.colab.kernel.invokeFunction('convertToInteractive',\n",
              "                                                    [key], {});\n",
              "        if (!dataTable) return;\n",
              "\n",
              "        const docLinkHtml = 'Like what you see? Visit the ' +\n",
              "          '<a target=\"_blank\" href=https://colab.research.google.com/notebooks/data_table.ipynb>data table notebook</a>'\n",
              "          + ' to learn more about interactive tables.';\n",
              "        element.innerHTML = '';\n",
              "        dataTable['output_type'] = 'display_data';\n",
              "        await google.colab.output.renderOutput(dataTable, element);\n",
              "        const docLink = document.createElement('div');\n",
              "        docLink.innerHTML = docLinkHtml;\n",
              "        element.appendChild(docLink);\n",
              "      }\n",
              "    </script>\n",
              "  </div>\n",
              "\n",
              "\n",
              "<div id=\"df-041e69f8-d708-4fa8-9032-35c9530afe56\">\n",
              "  <button class=\"colab-df-quickchart\" onclick=\"quickchart('df-041e69f8-d708-4fa8-9032-35c9530afe56')\"\n",
              "            title=\"Suggest charts\"\n",
              "            style=\"display:none;\">\n",
              "\n",
              "<svg xmlns=\"http://www.w3.org/2000/svg\" height=\"24px\"viewBox=\"0 0 24 24\"\n",
              "     width=\"24px\">\n",
              "    <g>\n",
              "        <path d=\"M19 3H5c-1.1 0-2 .9-2 2v14c0 1.1.9 2 2 2h14c1.1 0 2-.9 2-2V5c0-1.1-.9-2-2-2zM9 17H7v-7h2v7zm4 0h-2V7h2v10zm4 0h-2v-4h2v4z\"/>\n",
              "    </g>\n",
              "</svg>\n",
              "  </button>\n",
              "\n",
              "<style>\n",
              "  .colab-df-quickchart {\n",
              "      --bg-color: #E8F0FE;\n",
              "      --fill-color: #1967D2;\n",
              "      --hover-bg-color: #E2EBFA;\n",
              "      --hover-fill-color: #174EA6;\n",
              "      --disabled-fill-color: #AAA;\n",
              "      --disabled-bg-color: #DDD;\n",
              "  }\n",
              "\n",
              "  [theme=dark] .colab-df-quickchart {\n",
              "      --bg-color: #3B4455;\n",
              "      --fill-color: #D2E3FC;\n",
              "      --hover-bg-color: #434B5C;\n",
              "      --hover-fill-color: #FFFFFF;\n",
              "      --disabled-bg-color: #3B4455;\n",
              "      --disabled-fill-color: #666;\n",
              "  }\n",
              "\n",
              "  .colab-df-quickchart {\n",
              "    background-color: var(--bg-color);\n",
              "    border: none;\n",
              "    border-radius: 50%;\n",
              "    cursor: pointer;\n",
              "    display: none;\n",
              "    fill: var(--fill-color);\n",
              "    height: 32px;\n",
              "    padding: 0;\n",
              "    width: 32px;\n",
              "  }\n",
              "\n",
              "  .colab-df-quickchart:hover {\n",
              "    background-color: var(--hover-bg-color);\n",
              "    box-shadow: 0 1px 2px rgba(60, 64, 67, 0.3), 0 1px 3px 1px rgba(60, 64, 67, 0.15);\n",
              "    fill: var(--button-hover-fill-color);\n",
              "  }\n",
              "\n",
              "  .colab-df-quickchart-complete:disabled,\n",
              "  .colab-df-quickchart-complete:disabled:hover {\n",
              "    background-color: var(--disabled-bg-color);\n",
              "    fill: var(--disabled-fill-color);\n",
              "    box-shadow: none;\n",
              "  }\n",
              "\n",
              "  .colab-df-spinner {\n",
              "    border: 2px solid var(--fill-color);\n",
              "    border-color: transparent;\n",
              "    border-bottom-color: var(--fill-color);\n",
              "    animation:\n",
              "      spin 1s steps(1) infinite;\n",
              "  }\n",
              "\n",
              "  @keyframes spin {\n",
              "    0% {\n",
              "      border-color: transparent;\n",
              "      border-bottom-color: var(--fill-color);\n",
              "      border-left-color: var(--fill-color);\n",
              "    }\n",
              "    20% {\n",
              "      border-color: transparent;\n",
              "      border-left-color: var(--fill-color);\n",
              "      border-top-color: var(--fill-color);\n",
              "    }\n",
              "    30% {\n",
              "      border-color: transparent;\n",
              "      border-left-color: var(--fill-color);\n",
              "      border-top-color: var(--fill-color);\n",
              "      border-right-color: var(--fill-color);\n",
              "    }\n",
              "    40% {\n",
              "      border-color: transparent;\n",
              "      border-right-color: var(--fill-color);\n",
              "      border-top-color: var(--fill-color);\n",
              "    }\n",
              "    60% {\n",
              "      border-color: transparent;\n",
              "      border-right-color: var(--fill-color);\n",
              "    }\n",
              "    80% {\n",
              "      border-color: transparent;\n",
              "      border-right-color: var(--fill-color);\n",
              "      border-bottom-color: var(--fill-color);\n",
              "    }\n",
              "    90% {\n",
              "      border-color: transparent;\n",
              "      border-bottom-color: var(--fill-color);\n",
              "    }\n",
              "  }\n",
              "</style>\n",
              "\n",
              "  <script>\n",
              "    async function quickchart(key) {\n",
              "      const quickchartButtonEl =\n",
              "        document.querySelector('#' + key + ' button');\n",
              "      quickchartButtonEl.disabled = true;  // To prevent multiple clicks.\n",
              "      quickchartButtonEl.classList.add('colab-df-spinner');\n",
              "      try {\n",
              "        const charts = await google.colab.kernel.invokeFunction(\n",
              "            'suggestCharts', [key], {});\n",
              "      } catch (error) {\n",
              "        console.error('Error during call to suggestCharts:', error);\n",
              "      }\n",
              "      quickchartButtonEl.classList.remove('colab-df-spinner');\n",
              "      quickchartButtonEl.classList.add('colab-df-quickchart-complete');\n",
              "    }\n",
              "    (() => {\n",
              "      let quickchartButtonEl =\n",
              "        document.querySelector('#df-041e69f8-d708-4fa8-9032-35c9530afe56 button');\n",
              "      quickchartButtonEl.style.display =\n",
              "        google.colab.kernel.accessAllowed ? 'block' : 'none';\n",
              "    })();\n",
              "  </script>\n",
              "</div>\n",
              "    </div>\n",
              "  </div>\n"
            ]
          },
          "metadata": {}
        }
      ]
    }
  ],
  "metadata": {
    "kernelspec": {
      "display_name": "Python 3 (ipykernel)",
      "language": "python",
      "name": "python3"
    },
    "language_info": {
      "codemirror_mode": {
        "name": "ipython",
        "version": 3
      },
      "file_extension": ".py",
      "mimetype": "text/x-python",
      "name": "python",
      "nbconvert_exporter": "python",
      "pygments_lexer": "ipython3",
      "version": "3.9.13"
    },
    "colab": {
      "provenance": []
    }
  },
  "nbformat": 4,
  "nbformat_minor": 5
}